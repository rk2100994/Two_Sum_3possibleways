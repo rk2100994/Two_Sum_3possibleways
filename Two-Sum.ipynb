{
 "cells": [
  {
   "cell_type": "markdown",
   "metadata": {},
   "source": [
    "Problem: Given an array of integers, return indices of the two numbers such that they add up to a specific target. <br>You may assume that each input would have exactly one solution, and you may not use the same element twice."
   ]
  },
  {
   "cell_type": "code",
   "execution_count": 20,
   "metadata": {},
   "outputs": [
    {
     "name": "stdout",
     "output_type": "stream",
     "text": [
      "3\n",
      "indices that add upto  6  are  0 2\n",
      "True\n"
     ]
    }
   ],
   "source": [
    "# Time complexity: O(n^2)\n",
    "# Space complexity: O(1)\n",
    "def two_sum_bruteforce(A,target):\n",
    "    print(len(A))\n",
    "    for i in range(len(A)):\n",
    "        for j in range(i+1,len(A)):\n",
    "            if(A[i]+A[j] == target):\n",
    "                print(\"indices that add upto \",target,\" are \", i, j)\n",
    "                return True\n",
    "    return False\n",
    "print(two_sum_bruteforce([2,3,4],6))"
   ]
  },
  {
   "cell_type": "code",
   "execution_count": 31,
   "metadata": {},
   "outputs": [
    {
     "name": "stdout",
     "output_type": "stream",
     "text": [
      "False\n"
     ]
    }
   ],
   "source": [
    "# Time complexity: O(n)\n",
    "# Space complexity: O(n)\n",
    "def two_sum_hashtable(A,target):\n",
    "    ht = dict()\n",
    "    for i in A:\n",
    "        if i in ht:\n",
    "            return(A.index(ht[i]),A.index(i))\n",
    "        else:\n",
    "            sub = target - i\n",
    "            ht[sub] = i\n",
    "    return False\n",
    "print(two_sum_hashtable([2,4,7],10))"
   ]
  },
  {
   "cell_type": "code",
   "execution_count": 32,
   "metadata": {},
   "outputs": [
    {
     "name": "stdout",
     "output_type": "stream",
     "text": [
      "(1, 2)\n"
     ]
    }
   ],
   "source": [
    "# Time complexity: O(n)\n",
    "# Space complexity: O(1)\n",
    "def two_sum(A,target):\n",
    "    i = 0\n",
    "    j = len(A)-1\n",
    "    while(i<=j):\n",
    "        if A[i]+A[j] == target:\n",
    "            print(\"indices that add upto \",target,\" are \", i, j)\n",
    "        elif A[i]+A[j] < target:\n",
    "            i +=1\n",
    "        else: #A[i]+A[j] > target\n",
    "            j -=1\n",
    "print(two_sum_hashtable([2,4,6],10))"
   ]
  }
 ],
 "metadata": {
  "kernelspec": {
   "display_name": "Python 3",
   "language": "python",
   "name": "python3"
  },
  "language_info": {
   "codemirror_mode": {
    "name": "ipython",
    "version": 3
   },
   "file_extension": ".py",
   "mimetype": "text/x-python",
   "name": "python",
   "nbconvert_exporter": "python",
   "pygments_lexer": "ipython3",
   "version": "3.7.4"
  }
 },
 "nbformat": 4,
 "nbformat_minor": 2
}
